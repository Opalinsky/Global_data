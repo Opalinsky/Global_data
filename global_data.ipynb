{
 "cells": [
  {
   "cell_type": "code",
   "execution_count": 262,
   "metadata": {},
   "outputs": [],
   "source": [
    "import pandas as pd\n",
    "from pycountry_convert import country_alpha2_to_continent_code as alpha2_to_continent, convert_continent_code_to_continent_name as continent_name_converter\n",
    "\n",
    "global_data = pd.read_csv('world-data-2023.csv')\n",
    "pd.set_option('display.max_columns', None)  \n",
    "pd.set_option('display.max_rows', None)     "
   ]
  },
  {
   "cell_type": "code",
   "execution_count": 263,
   "metadata": {},
   "outputs": [],
   "source": [
    "#getting brief look on data\n",
    "# global_data.head()\n",
    "# global_data.sample(n=5)\n",
    "global_data.loc[global_data['Abbreviation'] == 'ST', 'Country'] = 'Sao Tome and Principe'"
   ]
  },
  {
   "cell_type": "code",
   "execution_count": 264,
   "metadata": {},
   "outputs": [],
   "source": [
    "#getting basic informations about dataset \n",
    "# global_data.columns\n",
    "# global_data.dtypes\n",
    "# global_data.shape"
   ]
  },
  {
   "cell_type": "code",
   "execution_count": 265,
   "metadata": {},
   "outputs": [],
   "source": [
    "#Cleaning data and interpolation \n",
    "#showing the columns with missing values\n",
    "# missing_values = global_data.isnull().sum()\n",
    "# missing_values = missing_values[missing_values>0]\n",
    "# print(missing_values)"
   ]
  },
  {
   "cell_type": "markdown",
   "metadata": {},
   "source": [
    "Adding the column for continents to use interpolation to fill missing data"
   ]
  },
  {
   "cell_type": "code",
   "execution_count": 266,
   "metadata": {},
   "outputs": [],
   "source": [
    "#countries without abbrevation \n",
    "countries_with_null_abbreviation = global_data[global_data['Abbreviation'].isna()]\n",
    "#countries_with_null_abbreviation"
   ]
  },
  {
   "cell_type": "code",
   "execution_count": 267,
   "metadata": {},
   "outputs": [],
   "source": [
    "#adding manually abbrevation \n",
    "global_data.loc[global_data['Country'] == 'Republic of the Congo', 'Abbreviation'] = 'CD'\n",
    "global_data.loc[global_data['Country'] == 'Eswatini', 'Abbreviation'] = 'SZ'\n",
    "global_data.loc[global_data['Country'] == 'Vatican City', 'Abbreviation'] = 'VA'\n",
    "global_data.loc[global_data['Country'] == 'Republic of Ireland', 'Abbreviation'] = 'IE'\n",
    "global_data.loc[global_data['Country'] == 'Namibia', 'Abbreviation'] = 'NA'\n",
    "global_data.loc[global_data['Country'] == 'North Macedonia', 'Abbreviation'] = 'MK'\n",
    "global_data.loc[global_data['Country'] == 'Palestinian National Authority', 'Abbreviation'] = 'PS'"
   ]
  },
  {
   "cell_type": "code",
   "execution_count": 268,
   "metadata": {},
   "outputs": [],
   "source": [
    "countries_with_null_abbreviation_count = global_data['Abbreviation'].isna().sum()\n",
    "#countries_with_null_abbreviation_count"
   ]
  },
  {
   "cell_type": "code",
   "execution_count": 269,
   "metadata": {},
   "outputs": [],
   "source": [
    "#function for returning continent based on alpha code 2 of the country\n",
    "def country_to_continent(country_alpha2):\n",
    "    try:\n",
    "        if isinstance(country_alpha2, str) and len(country_alpha2) == 2:\n",
    "            country_continent_code = alpha2_to_continent(country_alpha2)\n",
    "            country_continent_name = continent_name_converter(country_continent_code)\n",
    "            return country_continent_name\n",
    "        else:\n",
    "            return None  \n",
    "    except KeyError:\n",
    "        return None "
   ]
  },
  {
   "cell_type": "code",
   "execution_count": 270,
   "metadata": {},
   "outputs": [],
   "source": [
    "#creating new column byb applying the function with abreviation value as the argument \n",
    "global_data['Continent'] = global_data['Abbreviation'].apply(country_to_continent)"
   ]
  },
  {
   "cell_type": "code",
   "execution_count": 271,
   "metadata": {},
   "outputs": [],
   "source": [
    "#setting up continent column at the begininng \n",
    "global_data.insert(0, 'Continent', global_data.pop('Continent'))"
   ]
  },
  {
   "cell_type": "code",
   "execution_count": 272,
   "metadata": {},
   "outputs": [],
   "source": [
    "#checking for nan values in contient column\n",
    "countries_with_null_continent = global_data[global_data['Continent'].isna()]\n",
    "#countries_with_null_continent"
   ]
  },
  {
   "cell_type": "code",
   "execution_count": 273,
   "metadata": {},
   "outputs": [],
   "source": [
    "#manual assigning values for two countries \n",
    "global_data.loc[global_data['Country'] == 'Vatican City', 'Continent'] = 'Europe'\n",
    "global_data.loc[global_data['Country'] == 'East Timor', 'Continent'] = 'Asia'"
   ]
  },
  {
   "cell_type": "code",
   "execution_count": 274,
   "metadata": {},
   "outputs": [],
   "source": [
    "#rechecking if all of the countries are having sucesfully continent value \n",
    "countries_with_null_continent = global_data[global_data['Continent'].isna()]\n",
    "#countries_with_null_continent"
   ]
  },
  {
   "cell_type": "code",
   "execution_count": 276,
   "metadata": {},
   "outputs": [],
   "source": [
    "# spoko moga byc porownania krajow o tej samej gestosci zaludnienia np i pkb per capita jak to wplywa i np sprzezenie do tego regionu tez jakos \n"
   ]
  }
 ],
 "metadata": {
  "kernelspec": {
   "display_name": "Python 3",
   "language": "python",
   "name": "python3"
  },
  "language_info": {
   "codemirror_mode": {
    "name": "ipython",
    "version": 3
   },
   "file_extension": ".py",
   "mimetype": "text/x-python",
   "name": "python",
   "nbconvert_exporter": "python",
   "pygments_lexer": "ipython3",
   "version": "3.12.7"
  }
 },
 "nbformat": 4,
 "nbformat_minor": 2
}
